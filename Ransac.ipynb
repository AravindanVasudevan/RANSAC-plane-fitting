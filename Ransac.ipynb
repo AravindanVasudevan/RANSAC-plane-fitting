{
 "cells": [
  {
   "cell_type": "code",
   "execution_count": 1,
   "metadata": {},
   "outputs": [
    {
     "name": "stdout",
     "output_type": "stream",
     "text": [
      "Jupyter environment detected. Enabling Open3D WebVisualizer.\n",
      "[Open3D INFO] WebRTC GUI backend enabled.\n",
      "[Open3D INFO] WebRTCWindowSystem: HTTP handshake server disabled.\n"
     ]
    }
   ],
   "source": [
    "import math\n",
    "import numpy as np\n",
    "import open3d as o3d\n",
    "\n",
    "# read demo point cloud provided by Open3D\n",
    "pcd_point_cloud = o3d.data.PCDPointCloud()\n",
    "pcd = o3d.io.read_point_cloud(pcd_point_cloud.path)\n",
    "\n",
    "# function to visualize the point cloud\n",
    "o3d.visualization.draw_geometries([pcd],\n",
    "                                   zoom = 1,\n",
    "                                   front = [0.4257, -0.2125, -0.8795],\n",
    "                                   lookat = [2.6172, 2.0475, 1.532],\n",
    "                                   up = [-0.0694, -0.9768, 0.2024])"
   ]
  },
  {
   "cell_type": "code",
   "execution_count": 2,
   "metadata": {},
   "outputs": [],
   "source": [
    "# function to get the equation of a plane from 3 points\n",
    "def plane(p1, p2, p3):\n",
    "    a1 = p2[0] - p1[0]\n",
    "    b1 = p2[1] - p1[1]\n",
    "    c1 = p2[2] - p1[2]\n",
    "    a2 = p3[0] - p1[0]\n",
    "    b2 = p3[1] - p1[1]\n",
    "    c2 = p3[2] - p1[2]\n",
    "    a = b1 * c2 - b2 * c1\n",
    "    b = a2 * c1 - a1 * c2\n",
    "    c = a1 * b2 - b1 * a2\n",
    "    d = ((-1 * (a * p1[0])) - (b * p1[1]) - (c * p1[2]))\n",
    "    return a, b, c, d"
   ]
  },
  {
   "cell_type": "code",
   "execution_count": 3,
   "metadata": {},
   "outputs": [],
   "source": [
    "# RANSAC function (adaptive sampling) to get the inlers and outleirs of the point cloud to fit the best plane\n",
    "def RANSAC_plane(data, p, threshold):\n",
    "    s = 3\n",
    "    i_inl = []\n",
    "    i_outl = []\n",
    "    max_inlier_count = 0\n",
    "    no_of_inliers = 0\n",
    "    no_of_points = data.shape[0]\n",
    "    N = 10000000\n",
    "    itr = 0\n",
    "    while N > itr:\n",
    "        idx = np.random.randint(no_of_points, size = s)\n",
    "        p1 = data[idx[0], :]\n",
    "        p2 = data[idx[1], :]\n",
    "        p3 = data[idx[2], :]\n",
    "\n",
    "        a, b, c, d = plane(p1, p2, p3)\n",
    "        \n",
    "        for i in range(no_of_points): \n",
    "            nr = abs(((a * data[i, 0]) + (b * data[i, 1]) + (c * data[i, 2]) + d))\n",
    "            dr = (math.sqrt((a * a) + (b * b) + (c * c)))\n",
    "            dist = nr / dr\n",
    "            if(abs(dist) < threshold):\n",
    "                no_of_inliers += 1\n",
    "                i_inl.append(i)\n",
    "            else:\n",
    "                i_outl.append(i)\n",
    "\n",
    "        ep = (1 - ((no_of_inliers) / (no_of_points)))\n",
    "        N = int((math.log(1 - p)) / (math.log(1 - ((1 - ep) ** s))))\n",
    "        itr += 1\n",
    "        if(no_of_inliers > max_inlier_count):\n",
    "            best_plane = [a, b, c, d]\n",
    "            max_inlier_count = no_of_inliers\n",
    "            idx_inliers = i_inl\n",
    "            idx_outliers = i_outl\n",
    "        \n",
    "        no_of_inliers = 0\n",
    "        i_inl = []\n",
    "        i_outl = []\n",
    "    idx_inliers = np.asarray(idx_inliers)\n",
    "    idx_outliers = np.asarray(idx_outliers)\n",
    "    return best_plane, max_inlier_count, idx_inliers, idx_outliers"
   ]
  },
  {
   "cell_type": "code",
   "execution_count": 8,
   "metadata": {},
   "outputs": [],
   "source": [
    "data = np.asarray(pcd.points)\n",
    "\n",
    "# RABSAC parametrs\n",
    "p = 0.99\n",
    "threshold = 0.0275\n",
    "bestplane, inliers_count, inliers_index, outliers_index = RANSAC_plane(data, p, threshold)"
   ]
  },
  {
   "cell_type": "code",
   "execution_count": 9,
   "metadata": {},
   "outputs": [],
   "source": [
    "# visulaizing after getting the inliers and outliers from RANSAC\n",
    "inlier_cloud = pcd.select_by_index(inliers_index)\n",
    "outlier_cloud = pcd.select_by_index(outliers_index)\n",
    "inlier_cloud.paint_uniform_color([0, 1, 0])\n",
    "\n",
    "o3d.visualization.draw_geometries([inlier_cloud, outlier_cloud],\n",
    "                                   zoom = 1,\n",
    "                                   front = [0.4257, -0.2125, -0.8795],\n",
    "                                   lookat = [2.6172, 2.0475, 1.532],\n",
    "                                   up = [-0.0694, -0.9768, 0.2024])"
   ]
  }
 ],
 "metadata": {
  "kernelspec": {
   "display_name": "Python 3.7.12 ('opencv_py37')",
   "language": "python",
   "name": "python3"
  },
  "language_info": {
   "codemirror_mode": {
    "name": "ipython",
    "version": 3
   },
   "file_extension": ".py",
   "mimetype": "text/x-python",
   "name": "python",
   "nbconvert_exporter": "python",
   "pygments_lexer": "ipython3",
   "version": "3.7.12"
  },
  "orig_nbformat": 4,
  "vscode": {
   "interpreter": {
    "hash": "de569effcbacb0eab58fda70c694483a00e29dbce2f278034d98c997b8cf1047"
   }
  }
 },
 "nbformat": 4,
 "nbformat_minor": 2
}
